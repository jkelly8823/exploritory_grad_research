{
 "cells": [
  {
   "cell_type": "code",
   "execution_count": 2,
   "metadata": {},
   "outputs": [],
   "source": [
    "import os\n",
    "import pandas as pd\n",
    "import matplotlib as plt"
   ]
  },
  {
   "cell_type": "code",
   "execution_count": 3,
   "metadata": {},
   "outputs": [
    {
     "name": "stdout",
     "output_type": "stream",
     "text": [
      "      INDEX        TRIAL          PROMPT                    MODEL  \\\n",
      "0         0  total_run_1  prompt_prompt1             gemma2-9b-it   \n",
      "1         1  total_run_1  prompt_prompt1             gemma2-9b-it   \n",
      "2         2  total_run_1  prompt_prompt1             gemma2-9b-it   \n",
      "3         3  total_run_1  prompt_prompt1             gemma2-9b-it   \n",
      "4         4  total_run_1  prompt_prompt1             gemma2-9b-it   \n",
      "...     ...          ...             ...                      ...   \n",
      "2368   2368  total_run_1  prompt_prompt1  llama-3.1-70b-versatile   \n",
      "2369   2369  total_run_1  prompt_prompt1  llama-3.1-70b-versatile   \n",
      "2370   2370  total_run_1  prompt_prompt1  llama-3.1-70b-versatile   \n",
      "2371   2371  total_run_1  prompt_prompt1  llama-3.1-70b-versatile   \n",
      "2372   2372  total_run_1  prompt_prompt1  llama-3.1-70b-versatile   \n",
      "\n",
      "           SOURCE DATA_ID            FILENAME  VULN_MODEL  VULN_TRUTH  \n",
      "0     cwe_samples    1004   1004_Bad.java.txt        True        True  \n",
      "1     cwe_samples    1004  1004_Good.java.txt       False       False  \n",
      "2     cwe_samples     102     102_Bad.xml.txt        True        True  \n",
      "3     cwe_samples    1022   1022_Bad.html.txt        True        True  \n",
      "4     cwe_samples    1022     1022_Bad.js.txt        True        True  \n",
      "...           ...     ...                 ...         ...         ...  \n",
      "2368  cwe_samples      95      95_Good.py.txt        True       False  \n",
      "2369  cwe_samples      96      96_Bad.php.txt        True        True  \n",
      "2370  cwe_samples      98      98_Bad.php.txt        True        True  \n",
      "2371  cwe_samples      99      99_Bad.cpp.txt        True        True  \n",
      "2372  cwe_samples      99     99_Bad.java.txt        True        True  \n",
      "\n",
      "[2373 rows x 9 columns]\n"
     ]
    }
   ],
   "source": [
    "df = pd.read_csv('total_run_1_parsed_outputs.csv')\n",
    "print(df)"
   ]
  },
  {
   "cell_type": "code",
   "execution_count": 4,
   "metadata": {},
   "outputs": [
    {
     "name": "stdout",
     "output_type": "stream",
     "text": [
      "Correct: 1931\n",
      "Mismatched: 442\n"
     ]
    }
   ],
   "source": [
    "countCorrect = ((df['VULN_MODEL']) == (df['VULN_TRUTH'])).sum()\n",
    "print(f'Correct: {countCorrect}')\n",
    "countFalse = ((df['VULN_MODEL']) != (df['VULN_TRUTH'])).sum()\n",
    "print(f'Mismatched: {countFalse}')"
   ]
  },
  {
   "cell_type": "code",
   "execution_count": 7,
   "metadata": {},
   "outputs": [
    {
     "name": "stdout",
     "output_type": "stream",
     "text": [
      "Correct: 969\n",
      "Mismatched: 220\n",
      "Total: 1189\n",
      "Score: 81.49705634987384%\n"
     ]
    }
   ],
   "source": [
    "df_llama = df[df[\"MODEL\"] == \"llama-3.1-70b-versatile\" ]\n",
    "countCorrect = ((df_llama['VULN_MODEL']) == (df_llama['VULN_TRUTH'])).sum()\n",
    "print(f'Correct: {countCorrect}')\n",
    "countFalse = ((df_llama['VULN_MODEL']) != (df_llama['VULN_TRUTH'])).sum()\n",
    "print(f'Mismatched: {countFalse}')\n",
    "print(f'Total: {len(df_llama)}')\n",
    "print(f\"Score: {countCorrect/len(df_llama)*100}%\")"
   ]
  },
  {
   "cell_type": "code",
   "execution_count": 8,
   "metadata": {},
   "outputs": [
    {
     "name": "stdout",
     "output_type": "stream",
     "text": [
      "Correct: 962\n",
      "Mismatched: 222\n",
      "Total: 1184\n",
      "Score: 81.25%\n"
     ]
    }
   ],
   "source": [
    "df_gemma = df[df[\"MODEL\"] == \"gemma2-9b-it\" ]\n",
    "countCorrect = ((df_gemma['VULN_MODEL']) == (df_gemma['VULN_TRUTH'])).sum()\n",
    "print(f'Correct: {countCorrect}')\n",
    "countFalse = ((df_gemma['VULN_MODEL']) != (df_gemma['VULN_TRUTH'])).sum()\n",
    "print(f'Mismatched: {countFalse}')\n",
    "print(f'Total: {len(df_gemma)}')\n",
    "print(f\"Score: {countCorrect/len(df_gemma)*100}%\")"
   ]
  },
  {
   "cell_type": "code",
   "execution_count": 12,
   "metadata": {},
   "outputs": [
    {
     "name": "stdout",
     "output_type": "stream",
     "text": [
      "              PROMPT           SOURCE  \\\n",
      "0     prompt_prompt1  cpython_samples   \n",
      "1     prompt_prompt1  cpython_samples   \n",
      "2     prompt_prompt1  cpython_samples   \n",
      "3     prompt_prompt1  cpython_samples   \n",
      "4     prompt_prompt1      cwe_samples   \n",
      "...              ...              ...   \n",
      "1184  prompt_prompt1      cwe_samples   \n",
      "1185  prompt_prompt1      cwe_samples   \n",
      "1186  prompt_prompt1      cwe_samples   \n",
      "1187  prompt_prompt1      cwe_samples   \n",
      "1188  prompt_prompt1      cwe_samples   \n",
      "\n",
      "                                       DATA_ID                FILENAME  \\\n",
      "0     00464bbed66e5f64bdad7f930b315a88d5afccae        ssl_after.py.txt   \n",
      "1     00464bbed66e5f64bdad7f930b315a88d5afccae       ssl_before.py.txt   \n",
      "2     00464bbed66e5f64bdad7f930b315a88d5afccae   test_ssl_after.py.txt   \n",
      "3     00464bbed66e5f64bdad7f930b315a88d5afccae  test_ssl_before.py.txt   \n",
      "4                                         1004       1004_Bad.java.txt   \n",
      "...                                        ...                     ...   \n",
      "1184                                        95          95_Good.py.txt   \n",
      "1185                                        96          96_Bad.php.txt   \n",
      "1186                                        98          98_Bad.php.txt   \n",
      "1187                                        99          99_Bad.cpp.txt   \n",
      "1188                                        99         99_Bad.java.txt   \n",
      "\n",
      "      VULN_TRUTH  llama-3.1-70b-versatile gemma2-9b-it  \n",
      "0           True                     True          NaN  \n",
      "1           True                     True          NaN  \n",
      "2           True                     True          NaN  \n",
      "3           True                     True          NaN  \n",
      "4           True                     True         True  \n",
      "...          ...                      ...          ...  \n",
      "1184       False                     True         True  \n",
      "1185        True                     True         True  \n",
      "1186        True                     True         True  \n",
      "1187        True                     True         True  \n",
      "1188        True                     True         True  \n",
      "\n",
      "[1189 rows x 7 columns]\n"
     ]
    }
   ],
   "source": [
    "# Group by the relevant columns\n",
    "grouped = df.groupby(['PROMPT', 'SOURCE', 'DATA_ID', 'FILENAME'])\n",
    "\n",
    "# Create a list to hold the final rows\n",
    "final_rows = []\n",
    "\n",
    "# Iterate over each group to create the consolidated rows\n",
    "for name, group in grouped:\n",
    "    new_row = {\n",
    "        'PROMPT': name[0],\n",
    "        'SOURCE': name[1],\n",
    "        'DATA_ID': name[2],\n",
    "        'FILENAME': name[3],\n",
    "        'VULN_TRUTH': group['VULN_TRUTH'].iloc[0]\n",
    "    }\n",
    "    \n",
    "    # Add each model's VULN_MODEL value to the row\n",
    "    for _, row in group.iterrows():\n",
    "        new_row[row['MODEL']] = row['VULN_MODEL']\n",
    "    \n",
    "    final_rows.append(new_row)\n",
    "\n",
    "# Convert the list of rows into a new DataFrame\n",
    "final_df = pd.DataFrame(final_rows)\n",
    "\n",
    "# Display the final DataFrame\n",
    "print(final_df)"
   ]
  },
  {
   "cell_type": "code",
   "execution_count": 11,
   "metadata": {},
   "outputs": [
    {
     "name": "stdout",
     "output_type": "stream",
     "text": [
      "\n",
      "Filtered DataFrame where VULN_MODEL values don't match:\n",
      "              PROMPT       SOURCE DATA_ID             FILENAME  VULN_TRUTH  \\\n",
      "5     prompt_prompt1  cwe_samples    1004   1004_Good.java.txt       False   \n",
      "19    prompt_prompt1  cwe_samples    1041   1041_Good.java.txt       False   \n",
      "32    prompt_prompt1  cwe_samples    1071  1071_Bad_1.java.txt        True   \n",
      "38    prompt_prompt1  cwe_samples     110     110_Bad.java.txt        True   \n",
      "46    prompt_prompt1  cwe_samples     112   112_Bad_1.java.txt        True   \n",
      "...              ...          ...     ...                  ...         ...   \n",
      "1123  prompt_prompt1  cwe_samples     862      862_Bad.php.txt        True   \n",
      "1136  prompt_prompt1  cwe_samples     908     908_Bad.java.txt        True   \n",
      "1139  prompt_prompt1  cwe_samples     908       908_Good.c.txt       False   \n",
      "1145  prompt_prompt1  cwe_samples     909       909_Good.c.txt       False   \n",
      "1148  prompt_prompt1  cwe_samples     915       915_Bad.js.txt        True   \n",
      "\n",
      "      llama-3.1-70b-versatile gemma2-9b-it  \n",
      "5                        True        False  \n",
      "19                       True        False  \n",
      "32                       True        False  \n",
      "38                       True        False  \n",
      "46                       True        False  \n",
      "...                       ...          ...  \n",
      "1123                     True        False  \n",
      "1136                    False         True  \n",
      "1139                     True        False  \n",
      "1145                     True        False  \n",
      "1148                     True        False  \n",
      "\n",
      "[95 rows x 7 columns]\n"
     ]
    }
   ],
   "source": [
    "# Filter rows where any of the VULN_MODEL values don't match\n",
    "model_columns = final_df.columns.difference(['PROMPT', 'SOURCE', 'DATA_ID', 'FILENAME', 'VULN_TRUTH'])\n",
    "\n",
    "# Filtering condition: count unique values in non-NaN entries, include row if more than 1 unique value\n",
    "filtered_df = final_df[final_df[model_columns].apply(lambda row: row.dropna().nunique() > 1, axis=1)]\n",
    "\n",
    "# Display the filtered DataFrame\n",
    "print(\"\\nFiltered DataFrame where VULN_MODEL values don't match:\")\n",
    "print(filtered_df)"
   ]
  },
  {
   "cell_type": "code",
   "execution_count": null,
   "metadata": {},
   "outputs": [],
   "source": []
  }
 ],
 "metadata": {
  "kernelspec": {
   "display_name": "Python 3",
   "language": "python",
   "name": "python3"
  },
  "language_info": {
   "codemirror_mode": {
    "name": "ipython",
    "version": 3
   },
   "file_extension": ".py",
   "mimetype": "text/x-python",
   "name": "python",
   "nbconvert_exporter": "python",
   "pygments_lexer": "ipython3",
   "version": "3.11.5"
  }
 },
 "nbformat": 4,
 "nbformat_minor": 2
}
