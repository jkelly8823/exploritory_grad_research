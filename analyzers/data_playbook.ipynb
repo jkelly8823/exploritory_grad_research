{
 "cells": [
  {
   "cell_type": "code",
   "execution_count": 1,
   "metadata": {},
   "outputs": [],
   "source": [
    "import os\n",
    "import pandas as pd\n",
    "import matplotlib as plt"
   ]
  },
  {
   "cell_type": "code",
   "execution_count": 3,
   "metadata": {},
   "outputs": [
    {
     "name": "stdout",
     "output_type": "stream",
     "text": [
      "    INDEX          TRIAL              PROMPT                    MODEL  \\\n",
      "0       0  initial_run_1  prompt_sample_groq             gemma2-9b-it   \n",
      "1       1  initial_run_1  prompt_sample_groq             gemma2-9b-it   \n",
      "2       2  initial_run_1  prompt_sample_groq             gemma2-9b-it   \n",
      "3       3  initial_run_1  prompt_sample_groq             gemma2-9b-it   \n",
      "4       4  initial_run_1  prompt_sample_groq             gemma2-9b-it   \n",
      "..    ...            ...                 ...                      ...   \n",
      "95     95  initial_run_5  prompt_sample_groq  llama-3.1-70b-versatile   \n",
      "96     96  initial_run_5  prompt_sample_groq  llama-3.1-70b-versatile   \n",
      "97     97  initial_run_5  prompt_sample_groq  llama-3.1-70b-versatile   \n",
      "98     98  initial_run_5  prompt_sample_groq  llama-3.1-70b-versatile   \n",
      "99     99  initial_run_5  prompt_sample_groq  llama-3.1-70b-versatile   \n",
      "\n",
      "         SOURCE  DATA_ID            FILENAME  VULN_MODEL  VULN_TRUTH  \n",
      "0   cwe_samples     1004   1004_Bad.java.txt        True        True  \n",
      "1   cwe_samples     1004  1004_Good.java.txt        True       False  \n",
      "2   cwe_samples      102     102_Bad.xml.txt        True        True  \n",
      "3   cwe_samples     1022   1022_Bad.html.txt        True        True  \n",
      "4   cwe_samples     1022     1022_Bad.js.txt        True        True  \n",
      "..          ...      ...                 ...         ...         ...  \n",
      "95  cwe_samples     1022  1022_Good.html.txt        True       False  \n",
      "96  cwe_samples     1022    1022_Good.js.txt        True       False  \n",
      "97  cwe_samples     1023      1023_Bad.c.txt        True        True  \n",
      "98  cwe_samples     1023   1023_Bad.java.txt        True        True  \n",
      "99  cwe_samples     1025   1025_Bad.java.txt        True        True  \n",
      "\n",
      "[100 rows x 9 columns]\n"
     ]
    }
   ],
   "source": [
    "df = pd.read_csv('parsed_outputs.csv')\n",
    "print(df)"
   ]
  },
  {
   "cell_type": "code",
   "execution_count": 4,
   "metadata": {},
   "outputs": [
    {
     "name": "stdout",
     "output_type": "stream",
     "text": [
      "Correct: 78\n",
      "Mismatched: 22\n"
     ]
    }
   ],
   "source": [
    "countCorrect = ((df['VULN_MODEL']) == (df['VULN_TRUTH'])).sum()\n",
    "print(f'Correct: {countCorrect}')\n",
    "countFalse = ((df['VULN_MODEL']) != (df['VULN_TRUTH'])).sum()\n",
    "print(f'Mismatched: {countFalse}')"
   ]
  },
  {
   "cell_type": "code",
   "execution_count": 10,
   "metadata": {},
   "outputs": [
    {
     "name": "stdout",
     "output_type": "stream",
     "text": [
      "Correct: 39\n",
      "Mismatched: 11\n"
     ]
    }
   ],
   "source": [
    "df_llama = df[df[\"MODEL\"] == \"llama-3.1-70b-versatile\" ]\n",
    "countCorrect = ((df_llama['VULN_MODEL']) == (df_llama['VULN_TRUTH'])).sum()\n",
    "print(f'Correct: {countCorrect}')\n",
    "countFalse = ((df_llama['VULN_MODEL']) != (df_llama['VULN_TRUTH'])).sum()\n",
    "print(f'Mismatched: {countFalse}')"
   ]
  },
  {
   "cell_type": "code",
   "execution_count": 11,
   "metadata": {},
   "outputs": [
    {
     "name": "stdout",
     "output_type": "stream",
     "text": [
      "Correct: 39\n",
      "Mismatched: 11\n"
     ]
    }
   ],
   "source": [
    "df_gemma = df[df[\"MODEL\"] == \"gemma2-9b-it\" ]\n",
    "countCorrect = ((df_gemma['VULN_MODEL']) == (df_gemma['VULN_TRUTH'])).sum()\n",
    "print(f'Correct: {countCorrect}')\n",
    "countFalse = ((df_gemma['VULN_MODEL']) != (df_gemma['VULN_TRUTH'])).sum()\n",
    "print(f'Mismatched: {countFalse}')"
   ]
  },
  {
   "cell_type": "code",
   "execution_count": null,
   "metadata": {},
   "outputs": [],
   "source": []
  }
 ],
 "metadata": {
  "kernelspec": {
   "display_name": "Python 3",
   "language": "python",
   "name": "python3"
  },
  "language_info": {
   "codemirror_mode": {
    "name": "ipython",
    "version": 3
   },
   "file_extension": ".py",
   "mimetype": "text/x-python",
   "name": "python",
   "nbconvert_exporter": "python",
   "pygments_lexer": "ipython3",
   "version": "3.11.5"
  }
 },
 "nbformat": 4,
 "nbformat_minor": 2
}
